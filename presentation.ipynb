{
 "cells": [
  {
   "cell_type": "code",
   "execution_count": 5,
   "metadata": {
    "slideshow": {
     "slide_type": "skip"
    }
   },
   "outputs": [],
   "source": [
    "import os\n",
    "if 'google.colab' in str(get_ipython()):\n",
    "    os.system('pip install torch==1.9.0 fastcore==1.3.20 pytorch_inferno==0.2.2')"
   ]
  },
  {
   "cell_type": "markdown",
   "metadata": {
    "slideshow": {
     "slide_type": "slide"
    }
   },
   "source": [
    "# A PyTorch Drop-In Implementation of The INFERNO Algorithm\n",
    "## Giles Strong\n",
    "## PyHEP 2021, Online 06/07/21\n",
    "\n",
    "### [GitHub](https://github.com/GilesStrong/pytorch_inferno) [Docs](https://gilesstrong.github.io/pytorch_inferno/)"
   ]
  },
  {
   "cell_type": "markdown",
   "metadata": {
    "slideshow": {
     "slide_type": "slide"
    }
   },
   "source": [
    "# Traditional signal-versus-background classifier\n",
    "\n",
    "- Common approach in HEP searches: train binary classifier for signal and background(s)\n",
    "    - Loss is binary cross-entropy\n",
    "    - Systematic uncertainties (nuisance parameters) ignored during training\n",
    "- Resulting classification score binned and used as summary statistic for inference of the signal strength (parameter of interest, PoI)\n",
    "    - Only now are systematic uncertainties considered\n",
    "    - If effects are large, BCE training is no longer optimal & performance is sub-optimal\n",
    "    \n",
    "<img src=\"imgs/bce_result.png\" width=\"1500\">"
   ]
  },
  {
   "cell_type": "markdown",
   "metadata": {
    "slideshow": {
     "slide_type": "subslide"
    }
   },
   "source": [
    "# The INFERNO algorithm\n",
    "\n",
    "- [de Castro & Dorigo 2018](https://www.sciencedirect.com/science/article/pii/S0010465519301948)\n",
    "- Systematic uncertainties included during training\n",
    "    - Directly optimise deep neural network (DNN) for statistical inference of the PoI\n",
    "    - Loss is the PoI element of the inverse Hessian of the log-likelihood w.r.t. PoI and nuisance parameters\n",
    "    - Encouraged to have steep gradient w.r.t. PoI and shallow gradient w.r.t. nuisances\n",
    "- DNN output is a pre-binned summary statistic\n",
    "    - Softmax output, but can hard-assign after training\n",
    "    - \"Classes\" are unordered and emerge as a function of the training\n",
    "    - Learned binning allows INFERNO to account for nuisances on both input features & normalisation\n",
    "- Further discussion in blog posts ([part 1 of 5](https://gilesstrong.github.io/website/statistics/hep/inferno/2020/12/04/inferno-1.html))\n",
    "\n",
    "<img src=\"imgs/inferno_result.png\" width=\"1500\">"
   ]
  },
  {
   "cell_type": "markdown",
   "metadata": {
    "slideshow": {
     "slide_type": "slide"
    }
   },
   "source": [
    "# INFERNO implementation\n",
    "## General implementation\n",
    "\n",
    "1. Specify how nusiances would modify input features to DNN - makes DNN out differentiable w.r.t. nuisnaces\n",
    "1. Pass data through DNN\n",
    "1. Compute signal & bkg. shapes and normalise by rates\n",
    "1. Compute profile log-likelihood (NLL) at Asimov count (sig+bkg and no nuisances)\n",
    "1. Compute hessian of NLL w.r.t nuisances and PoI\n",
    "1. Loss is the PoI element of the inverted hessian $\\nabla^2 NLL ^{-1}_{\\mathrm{PoI,PoI}}$\n",
    "1. Back-propagate loss and update DNN parameters\n",
    "\n",
    "## Difficulties\n",
    "\n",
    "- Data needs to be modified before forwards pass to include the effect of the nuisances\n",
    "- May need to reevaluate model response on data without the nuisances to get Asimov predictions"
   ]
  },
  {
   "cell_type": "markdown",
   "metadata": {
    "slideshow": {
     "slide_type": "subslide"
    }
   },
   "source": [
    "# INFERNO as a drop-in* loss\n",
    "\n",
    "- Main aim: implement INFERNO such that\n",
    "    - it doesn't require a specific, hard-coded training loop\n",
    "    - it can easily be interchanged with other loss functions, to compare performance\n",
    "- Implement loss as a *callback* class\n",
    "    - Has access to DNN and data\n",
    "    - Can perform actions at required points during optimisation cycle"
   ]
  },
  {
   "cell_type": "markdown",
   "metadata": {
    "slideshow": {
     "slide_type": "slide"
    }
   },
   "source": [
    "# The PyTorch INFERNO package\n",
    "\n",
    "- Provides DNN training wrapper for PyTorch, with extensive callback system\n",
    "- Basic inference system for NLL minimisation with nuisances\n",
    "- Abstract class implementation of INFERNO\n",
    "    - User can inherit and fine-tune it for their specific use-case\n",
    "- Also includes an experimental approximation of INFERNO for use with up/down systematic MC datasets used in HEP\n",
    "    - User doesn't need to analytically describe how the input features depend on the nuisances\n",
    "    - Instead, nuisance effects extracted from interpolation between systematic and nominal datasets\n",
    "- Package successfully reproduces paper results on toy dataset"
   ]
  },
  {
   "cell_type": "markdown",
   "metadata": {
    "slideshow": {
     "slide_type": "subslide"
    }
   },
   "source": [
    "# Optimisation loop\n",
    "\n",
    "`ModelWrapper` class provides training of DNNs (`self.model`).\n",
    "\n",
    "Callbacks are attributes of the `ModelWrapper`, and each callback has the `ModelWrapper` as an attribute.\n",
    "\n",
    "The INFERNO callback can therefore alter the data (`self.x`) before the forwards pass, and compute the loss before the backwards pass.\n",
    "\n",
    "This is the forwards pass for a batch of data. \n",
    "\n",
    "```python\n",
    "def _fit_batch(self, x:Tensor, y:Tensor, w:Tensor) -> None:\n",
    "    self.x,self.y = to_device(x,self.device),to_device(y,self.device)\n",
    "    for c in self.cbs: c.on_batch_begin()  # <-- INFERNO callback modifes data\n",
    "    self.y_pred = self.model(self.x)\n",
    "    if self.state != 'test' and self.loss_func is not None:\n",
    "        self.loss_val = self.loss_func(self.y_pred, self.y)\n",
    "    for c in self.cbs: c.on_forwards_end()  # <-- INFERNO callback manually sets the loss value\n",
    "```"
   ]
  },
  {
   "cell_type": "markdown",
   "metadata": {
    "slideshow": {
     "slide_type": "subslide"
    }
   },
   "source": [
    "# Data modification\n",
    "\n",
    "When a new batch of data is loaded, the `AbsInferno` class runs:\n",
    "```python\n",
    "def on_batch_begin(self) -> None:\n",
    "        self.b_mask = self.wrapper.y.squeeze() == 0\n",
    "        self._aug_data(self.wrapper.x)\n",
    "```\n",
    "The user overrides `_aug_data` to provide an appropriate modification of the input features, e.g.:\n",
    "```python\n",
    "def _aug_data(self, x:Tensor) -> None:\n",
    "        x[self.b_mask,0] +=  self.alpha[self.shape_idxs[0]]  # Nuisance shifts input 0 \n",
    "        x[self.b_mask,2] *= (self.alpha[self.shape_idxs[-1]]+3)/3  # Nuisance rescales input 2\n",
    "```     \n",
    "Where `self.alpha` is a tensor of zeros i.e. the nuisance parameters at their nominal values."
   ]
  },
  {
   "cell_type": "markdown",
   "metadata": {
    "slideshow": {
     "slide_type": "subslide"
    }
   },
   "source": [
    "# Loss computation\n",
    "\n",
    "After forwards pass, INFERNO computes prediction shapes and reruns DNN predictions on unmodified data.\n",
    "\n",
    "Only shape nuisances included so far.\n",
    "\n",
    "`self.get_inv_ikk` computes the loss.\n",
    "\n",
    "```python\n",
    "def on_forwards_end(self) -> None:\n",
    "    # Shapes with derivatives w.r.t. nuisances\n",
    "    f_s = self.to_shape(self.wrapper.y_pred[~self.b_mask], w_s)\n",
    "    f_b = self.to_shape(self.wrapper.y_pred[self.b_mask], w_b)\n",
    "    # Shapes without derivatives w.r.t. nuisances\n",
    "    f_s_asimov = self.to_shape(self.wrapper.model(self.wrapper.x[~self.b_mask].detach()), w_s)\n",
    "    f_b_asimov = self.to_shape(self.wrapper.model(self.wrapper.x[self.b_mask].detach()), w_b)\n",
    "    self.wrapper.loss_val = self.get_inv_ikk(f_s, f_b, f_s_asimov, f_b_asimov)\n",
    "```        "
   ]
  },
  {
   "cell_type": "markdown",
   "metadata": {
    "slideshow": {
     "slide_type": "subslide"
    }
   },
   "source": [
    "# Loss computation\n",
    "\n",
    "Expected counts for signal & bkg modified by rate nuisances and PoI.\n",
    "\n",
    "NLL computed at nominal PoI. Can also constrain NLL using auxiliary measurements.\n",
    "\n",
    "```python\n",
    "def get_inv_ikk(self, f_s:Tensor, f_b:Tensor, f_s_asimov:Tensor, f_b_asimov:Tensor) -> Tensor:\n",
    "        s_exp = self.alpha[self.poi_idx]+self.alpha[self.s_norm_idxs].sum()\n",
    "        b_exp = self.b_true             +self.alpha[self.b_norm_idxs].sum()\n",
    "        t_exp  = (s_exp*f_s)+(b_exp*f_b)\n",
    "        asimov = (self.mu_true*f_s)+(self.b_true*f_b_asimov)\n",
    "        nll = -torch.distributions.Poisson(t_exp, False).log_prob(asimov).sum()\n",
    "        _,h = calc_grad_hesse(nll, self.alpha, create_graph=True)  # Compute Hessian w.r.t. params\n",
    "        return torch.inverse(h)[self.poi_idx,self.poi_idx]  # Invert and return relevant element\n",
    "```"
   ]
  },
  {
   "cell_type": "markdown",
   "metadata": {
    "slideshow": {
     "slide_type": "slide"
    }
   },
   "source": [
    "# Paper example\n",
    "Let's see how we'd go about training networks for the toy-dataset of the INFERNO paper: a simple 3-feature classification problem with nuisances affecting the position and scale of the features, and the normalisation of the background.\n",
    "\n",
    "<img src=\"imgs/toy_data.png\" width=\"512\">"
   ]
  },
  {
   "cell_type": "markdown",
   "metadata": {
    "slideshow": {
     "slide_type": "subslide"
    }
   },
   "source": [
    "## Import data\n",
    "The package includes a simple function to generate the toy-dataset from the paper"
   ]
  },
  {
   "cell_type": "code",
   "execution_count": 1,
   "metadata": {
    "slideshow": {
     "slide_type": "-"
    }
   },
   "outputs": [],
   "source": [
    "from pytorch_inferno.data import get_paper_data\n",
    "data, test = get_paper_data(200000, bs=2000, n_test=1000000)"
   ]
  },
  {
   "cell_type": "markdown",
   "metadata": {
    "slideshow": {
     "slide_type": "subslide"
    }
   },
   "source": [
    "## Define DNN\n",
    "The `VariableSoftmax` is a standard softmax, but with a rescaling of the input activation."
   ]
  },
  {
   "cell_type": "code",
   "execution_count": 2,
   "metadata": {
    "slideshow": {
     "slide_type": "-"
    }
   },
   "outputs": [],
   "source": [
    "from pytorch_inferno.utils import init_net\n",
    "from pytorch_inferno.model_wrapper import ModelWrapper\n",
    "from pytorch_inferno.inferno import VariableSoftmax, PaperInferno\n",
    "from torch import nn, optim\n",
    "net = nn.Sequential(nn.Linear(3,100),  nn.ReLU(),\n",
    "                    nn.Linear(100,100),nn.ReLU(),\n",
    "                    nn.Linear(100,10), VariableSoftmax(0.1))  \n",
    "init_net(net)\n",
    "model_inf = ModelWrapper(net)"
   ]
  },
  {
   "cell_type": "markdown",
   "metadata": {
    "slideshow": {
     "slide_type": "subslide"
    }
   },
   "source": [
    "## Train using INFERNO\n",
    "We set the loss fucntion to `None` and include INFERNO as a callback. `PaperInferno` is already configures to apply the nuisance parameters used in the paper, and we can constrain the nuisances by supplying distributions for them."
   ]
  },
  {
   "cell_type": "code",
   "execution_count": 3,
   "metadata": {
    "slideshow": {
     "slide_type": "-"
    }
   },
   "outputs": [
    {
     "data": {
      "text/html": [],
      "text/plain": [
       "<IPython.core.display.HTML object>"
      ]
     },
     "metadata": {},
     "output_type": "display_data"
    },
    {
     "name": "stdout",
     "output_type": "stream",
     "text": [
      "1: Train=1658.081750793457 Valid=932.7327551269532\n",
      "2: Train=680.4376370239257 Valid=537.5323510742187\n",
      "3: Train=528.1070089721679 Valid=458.61175537109375\n",
      "4: Train=429.0452523803711 Valid=406.1002673339844\n",
      "5: Train=406.25960327148437 Valid=401.3342395019531\n",
      "6: Train=405.13085174560547 Valid=396.5695477294922\n",
      "7: Train=388.9934994506836 Valid=378.25212524414064\n",
      "8: Train=390.8989633178711 Valid=390.21994750976563\n",
      "9: Train=397.49707183837893 Valid=374.86206787109376\n",
      "10: Train=379.33466735839846 Valid=378.8922100830078\n",
      "Loading best model with loss 374.86206787109376\n"
     ]
    }
   ],
   "source": [
    "from pytorch_inferno.callback import LossTracker, SaveBest, EarlyStopping\n",
    "from fastcore.all import partialler\n",
    "from torch.distributions import Normal\n",
    "model_inf.fit(10, data=data, opt=partialler(optim.Adam,lr=1e-3), loss=None,\n",
    "              cbs=[PaperInferno(float_r=True, float_l=True, shape_aux=[Normal(0,0.2), Normal(0,0.5)], nonaux_b_norm=False, b_norm_aux=[Normal(0,100)]),\n",
    "              LossTracker(),SaveBest('weights/best_ie.h5'),EarlyStopping(2)])"
   ]
  },
  {
   "cell_type": "markdown",
   "metadata": {
    "slideshow": {
     "slide_type": "subslide"
    }
   },
   "source": [
    "## Train using BCE\n",
    "We just need to change the output to a single sigmoid and the loss to BCE:"
   ]
  },
  {
   "cell_type": "code",
   "execution_count": 4,
   "metadata": {
    "scrolled": true,
    "slideshow": {
     "slide_type": "-"
    }
   },
   "outputs": [
    {
     "data": {
      "text/html": [],
      "text/plain": [
       "<IPython.core.display.HTML object>"
      ]
     },
     "metadata": {},
     "output_type": "display_data"
    },
    {
     "name": "stdout",
     "output_type": "stream",
     "text": [
      "1: Train=0.46369129478931426 Valid=0.3958123242855072\n",
      "2: Train=0.3675335520505905 Valid=0.34340696036815643\n",
      "3: Train=0.3401672279834747 Valid=0.3381498545408249\n",
      "4: Train=0.3379241266846657 Valid=0.3361202758550644\n",
      "5: Train=0.33727324903011324 Valid=0.33573132634162905\n",
      "6: Train=0.3371224933862686 Valid=0.33488329768180847\n",
      "7: Train=0.3360310474038124 Valid=0.334065660238266\n",
      "8: Train=0.33577719539403916 Valid=0.33446725010871886\n",
      "9: Train=0.3351780179142952 Valid=0.33403763711452483\n",
      "10: Train=0.3352005869150162 Valid=0.33314174056053164\n",
      "Loading best model with loss 0.33314174056053164\n"
     ]
    }
   ],
   "source": [
    "net2 = nn.Sequential(nn.Linear(3,100),   nn.ReLU(),\n",
    "                     nn.Linear(100,100), nn.ReLU(),\n",
    "                     nn.Linear(100,1),   nn.Sigmoid())\n",
    "init_net(net2)\n",
    "model_bce = ModelWrapper(net2)\n",
    "model_bce.fit(10, data=data, opt=partialler(optim.Adam,lr=1e-3), loss=nn.BCELoss(),\n",
    "              cbs=[LossTracker(),SaveBest('weights/best_ie.h5'),EarlyStopping(2)])"
   ]
  },
  {
   "cell_type": "code",
   "execution_count": 5,
   "metadata": {
    "slideshow": {
     "slide_type": "skip"
    }
   },
   "outputs": [],
   "source": [
    "from pytorch_inferno.inferno import InfernoPred\n",
    "from pytorch_inferno.inference import bin_preds, get_shape, get_paper_syst_shapes, calc_profile\n",
    "from pytorch_inferno.plotting import plot_likelihood, plot_preds\n",
    "from pytorch_inferno.callback import PredHandler\n",
    "import pandas as pd\n",
    "import numpy as np\n",
    "import torch\n",
    "from torch import Tensor"
   ]
  },
  {
   "cell_type": "code",
   "execution_count": 6,
   "metadata": {
    "slideshow": {
     "slide_type": "skip"
    }
   },
   "outputs": [],
   "source": [
    "mu_scan = torch.linspace(20,80,61)\n",
    "bkg = test.dataset.x[test.dataset.y.squeeze() == 0]\n",
    "\n",
    "def compute_nll(model:ModelWrapper, is_inferno:bool) -> Tensor:\n",
    "    preds = model._predict_dl(test, pred_cb=InfernoPred() if is_inferno else PredHandler())\n",
    "    \n",
    "    df = pd.DataFrame({'pred':preds.squeeze()})\n",
    "    df['gen_target'] = test.dataset.y\n",
    "    df.head()\n",
    "    \n",
    "    bins = np.linspace(0,10,11) if is_inferno else np.linspace(0,1,11)\n",
    "    bin_preds(df, bins=bins)\n",
    "    plot_preds(df, bin_edges=bins)\n",
    "    f_s,f_b = get_shape(df,1),get_shape(df,0)\n",
    "    \n",
    "    b_shapes = get_paper_syst_shapes(bkg, df, model=model, pred_cb=InfernoPred() if is_inferno else PredHandler(), bins=bins)\n",
    "    nll = calc_profile(f_s_nom=f_s, **b_shapes, n_obs=1050, mu_scan=mu_scan, mu_true=50, n_steps=100, shape_aux=[Normal(0,0.4), Normal(0,0.5)], b_norm_aux=[Normal(0,100)])\n",
    "    return nll"
   ]
  },
  {
   "cell_type": "code",
   "execution_count": 7,
   "metadata": {
    "slideshow": {
     "slide_type": "skip"
    }
   },
   "outputs": [
    {
     "data": {
      "text/html": [
       "\n",
       "    <div>\n",
       "        <style>\n",
       "            /* Turns off some styling */\n",
       "            progress {\n",
       "                /* gets rid of default border in Firefox and Opera. */\n",
       "                border: none;\n",
       "                /* Needs to be in here for Safari polyfill so background images work as expected. */\n",
       "                background-size: auto;\n",
       "            }\n",
       "            .progress-bar-interrupted, .progress-bar-interrupted::-webkit-progress-bar {\n",
       "                background: #F44336;\n",
       "            }\n",
       "        </style>\n",
       "      <progress value='250' class='' max='250' style='width:300px; height:20px; vertical-align: middle;'></progress>\n",
       "      100.00% [250/250 00:10<00:00]\n",
       "    </div>\n",
       "    "
      ],
      "text/plain": [
       "<IPython.core.display.HTML object>"
      ]
     },
     "metadata": {},
     "output_type": "display_data"
    },
    {
     "name": "stderr",
     "output_type": "stream",
     "text": [
      "/Users/giles/anaconda3/envs/rise/lib/python3.8/site-packages/seaborn/distributions.py:2557: FutureWarning: `distplot` is a deprecated function and will be removed in a future version. Please adapt your code to use either `displot` (a figure-level function with similar flexibility) or `histplot` (an axes-level function for histograms).\n",
      "  warnings.warn(msg, FutureWarning)\n",
      "/Users/giles/anaconda3/envs/rise/lib/python3.8/site-packages/seaborn/distributions.py:2557: FutureWarning: `distplot` is a deprecated function and will be removed in a future version. Please adapt your code to use either `displot` (a figure-level function with similar flexibility) or `histplot` (an axes-level function for histograms).\n",
      "  warnings.warn(msg, FutureWarning)\n"
     ]
    },
    {
     "data": {
      "image/png": "[encoded data removed]",
      "text/plain": [
       "<Figure size 1024x576 with 1 Axes>"
      ]
     },
     "metadata": {},
     "output_type": "display_data"
    },
    {
     "name": "stdout",
     "output_type": "stream",
     "text": [
      "Running: r=-0.2\n"
     ]
    },
    {
     "data": {
      "text/html": [
       "\n",
       "    <div>\n",
       "        <style>\n",
       "            /* Turns off some styling */\n",
       "            progress {\n",
       "                /* gets rid of default border in Firefox and Opera. */\n",
       "                border: none;\n",
       "                /* Needs to be in here for Safari polyfill so background images work as expected. */\n",
       "                background-size: auto;\n",
       "            }\n",
       "            .progress-bar-interrupted, .progress-bar-interrupted::-webkit-progress-bar {\n",
       "                background: #F44336;\n",
       "            }\n",
       "        </style>\n",
       "      <progress value='1' class='' max='1' style='width:300px; height:20px; vertical-align: middle;'></progress>\n",
       "      100.00% [1/1 00:03<00:00]\n",
       "    </div>\n",
       "    "
      ],
      "text/plain": [
       "<IPython.core.display.HTML object>"
      ]
     },
     "metadata": {},
     "output_type": "display_data"
    },
    {
     "name": "stdout",
     "output_type": "stream",
     "text": [
      "Running: r=0\n"
     ]
    },
    {
     "data": {
      "text/html": [
       "\n",
       "    <div>\n",
       "        <style>\n",
       "            /* Turns off some styling */\n",
       "            progress {\n",
       "                /* gets rid of default border in Firefox and Opera. */\n",
       "                border: none;\n",
       "                /* Needs to be in here for Safari polyfill so background images work as expected. */\n",
       "                background-size: auto;\n",
       "            }\n",
       "            .progress-bar-interrupted, .progress-bar-interrupted::-webkit-progress-bar {\n",
       "                background: #F44336;\n",
       "            }\n",
       "        </style>\n",
       "      <progress value='1' class='' max='1' style='width:300px; height:20px; vertical-align: middle;'></progress>\n",
       "      100.00% [1/1 00:03<00:00]\n",
       "    </div>\n",
       "    "
      ],
      "text/plain": [
       "<IPython.core.display.HTML object>"
      ]
     },
     "metadata": {},
     "output_type": "display_data"
    },
    {
     "name": "stdout",
     "output_type": "stream",
     "text": [
      "Running: r=0.2\n"
     ]
    },
    {
     "data": {
      "text/html": [
       "\n",
       "    <div>\n",
       "        <style>\n",
       "            /* Turns off some styling */\n",
       "            progress {\n",
       "                /* gets rid of default border in Firefox and Opera. */\n",
       "                border: none;\n",
       "                /* Needs to be in here for Safari polyfill so background images work as expected. */\n",
       "                background-size: auto;\n",
       "            }\n",
       "            .progress-bar-interrupted, .progress-bar-interrupted::-webkit-progress-bar {\n",
       "                background: #F44336;\n",
       "            }\n",
       "        </style>\n",
       "      <progress value='1' class='' max='1' style='width:300px; height:20px; vertical-align: middle;'></progress>\n",
       "      100.00% [1/1 00:04<00:00]\n",
       "    </div>\n",
       "    "
      ],
      "text/plain": [
       "<IPython.core.display.HTML object>"
      ]
     },
     "metadata": {},
     "output_type": "display_data"
    },
    {
     "name": "stdout",
     "output_type": "stream",
     "text": [
      "Running: l=2.5\n"
     ]
    },
    {
     "data": {
      "text/html": [
       "\n",
       "    <div>\n",
       "        <style>\n",
       "            /* Turns off some styling */\n",
       "            progress {\n",
       "                /* gets rid of default border in Firefox and Opera. */\n",
       "                border: none;\n",
       "                /* Needs to be in here for Safari polyfill so background images work as expected. */\n",
       "                background-size: auto;\n",
       "            }\n",
       "            .progress-bar-interrupted, .progress-bar-interrupted::-webkit-progress-bar {\n",
       "                background: #F44336;\n",
       "            }\n",
       "        </style>\n",
       "      <progress value='1' class='' max='1' style='width:300px; height:20px; vertical-align: middle;'></progress>\n",
       "      100.00% [1/1 00:03<00:00]\n",
       "    </div>\n",
       "    "
      ],
      "text/plain": [
       "<IPython.core.display.HTML object>"
      ]
     },
     "metadata": {},
     "output_type": "display_data"
    },
    {
     "name": "stdout",
     "output_type": "stream",
     "text": [
      "Running: l=3\n"
     ]
    },
    {
     "data": {
      "text/html": [
       "\n",
       "    <div>\n",
       "        <style>\n",
       "            /* Turns off some styling */\n",
       "            progress {\n",
       "                /* gets rid of default border in Firefox and Opera. */\n",
       "                border: none;\n",
       "                /* Needs to be in here for Safari polyfill so background images work as expected. */\n",
       "                background-size: auto;\n",
       "            }\n",
       "            .progress-bar-interrupted, .progress-bar-interrupted::-webkit-progress-bar {\n",
       "                background: #F44336;\n",
       "            }\n",
       "        </style>\n",
       "      <progress value='1' class='' max='1' style='width:300px; height:20px; vertical-align: middle;'></progress>\n",
       "      100.00% [1/1 00:03<00:00]\n",
       "    </div>\n",
       "    "
      ],
      "text/plain": [
       "<IPython.core.display.HTML object>"
      ]
     },
     "metadata": {},
     "output_type": "display_data"
    },
    {
     "name": "stdout",
     "output_type": "stream",
     "text": [
      "Running: l=3.5\n"
     ]
    },
    {
     "data": {
      "text/html": [
       "\n",
       "    <div>\n",
       "        <style>\n",
       "            /* Turns off some styling */\n",
       "            progress {\n",
       "                /* gets rid of default border in Firefox and Opera. */\n",
       "                border: none;\n",
       "                /* Needs to be in here for Safari polyfill so background images work as expected. */\n",
       "                background-size: auto;\n",
       "            }\n",
       "            .progress-bar-interrupted, .progress-bar-interrupted::-webkit-progress-bar {\n",
       "                background: #F44336;\n",
       "            }\n",
       "        </style>\n",
       "      <progress value='1' class='' max='1' style='width:300px; height:20px; vertical-align: middle;'></progress>\n",
       "      100.00% [1/1 00:03<00:00]\n",
       "    </div>\n",
       "    "
      ],
      "text/plain": [
       "<IPython.core.display.HTML object>"
      ]
     },
     "metadata": {},
     "output_type": "display_data"
    },
    {
     "data": {
      "text/html": [
       "\n",
       "    <div>\n",
       "        <style>\n",
       "            /* Turns off some styling */\n",
       "            progress {\n",
       "                /* gets rid of default border in Firefox and Opera. */\n",
       "                border: none;\n",
       "                /* Needs to be in here for Safari polyfill so background images work as expected. */\n",
       "                background-size: auto;\n",
       "            }\n",
       "            .progress-bar-interrupted, .progress-bar-interrupted::-webkit-progress-bar {\n",
       "                background: #F44336;\n",
       "            }\n",
       "        </style>\n",
       "      <progress value='61' class='' max='61' style='width:300px; height:20px; vertical-align: middle;'></progress>\n",
       "      100.00% [61/61 00:16<00:00]\n",
       "    </div>\n",
       "    "
      ],
      "text/plain": [
       "<IPython.core.display.HTML object>"
      ]
     },
     "metadata": {},
     "output_type": "display_data"
    }
   ],
   "source": [
    "nll_inf = compute_nll(model_inf, True)"
   ]
  },
  {
   "cell_type": "code",
   "execution_count": 8,
   "metadata": {
    "slideshow": {
     "slide_type": "skip"
    }
   },
   "outputs": [
    {
     "data": {
      "text/html": [
       "\n",
       "    <div>\n",
       "        <style>\n",
       "            /* Turns off some styling */\n",
       "            progress {\n",
       "                /* gets rid of default border in Firefox and Opera. */\n",
       "                border: none;\n",
       "                /* Needs to be in here for Safari polyfill so background images work as expected. */\n",
       "                background-size: auto;\n",
       "            }\n",
       "            .progress-bar-interrupted, .progress-bar-interrupted::-webkit-progress-bar {\n",
       "                background: #F44336;\n",
       "            }\n",
       "        </style>\n",
       "      <progress value='250' class='' max='250' style='width:300px; height:20px; vertical-align: middle;'></progress>\n",
       "      100.00% [250/250 00:11<00:00]\n",
       "    </div>\n",
       "    "
      ],
      "text/plain": [
       "<IPython.core.display.HTML object>"
      ]
     },
     "metadata": {},
     "output_type": "display_data"
    },
    {
     "name": "stderr",
     "output_type": "stream",
     "text": [
      "/Users/giles/anaconda3/envs/rise/lib/python3.8/site-packages/seaborn/distributions.py:2557: FutureWarning: `distplot` is a deprecated function and will be removed in a future version. Please adapt your code to use either `displot` (a figure-level function with similar flexibility) or `histplot` (an axes-level function for histograms).\n",
      "  warnings.warn(msg, FutureWarning)\n",
      "/Users/giles/anaconda3/envs/rise/lib/python3.8/site-packages/seaborn/distributions.py:2557: FutureWarning: `distplot` is a deprecated function and will be removed in a future version. Please adapt your code to use either `displot` (a figure-level function with similar flexibility) or `histplot` (an axes-level function for histograms).\n",
      "  warnings.warn(msg, FutureWarning)\n"
     ]
    },
    {
     "data": {
      "image/png": "[encoded data removed]",
      "text/plain": [
       "<Figure size 1024x576 with 1 Axes>"
      ]
     },
     "metadata": {},
     "output_type": "display_data"
    },
    {
     "name": "stdout",
     "output_type": "stream",
     "text": [
      "Running: r=-0.2\n"
     ]
    },
    {
     "data": {
      "text/html": [
       "\n",
       "    <div>\n",
       "        <style>\n",
       "            /* Turns off some styling */\n",
       "            progress {\n",
       "                /* gets rid of default border in Firefox and Opera. */\n",
       "                border: none;\n",
       "                /* Needs to be in here for Safari polyfill so background images work as expected. */\n",
       "                background-size: auto;\n",
       "            }\n",
       "            .progress-bar-interrupted, .progress-bar-interrupted::-webkit-progress-bar {\n",
       "                background: #F44336;\n",
       "            }\n",
       "        </style>\n",
       "      <progress value='1' class='' max='1' style='width:300px; height:20px; vertical-align: middle;'></progress>\n",
       "      100.00% [1/1 00:04<00:00]\n",
       "    </div>\n",
       "    "
      ],
      "text/plain": [
       "<IPython.core.display.HTML object>"
      ]
     },
     "metadata": {},
     "output_type": "display_data"
    },
    {
     "name": "stdout",
     "output_type": "stream",
     "text": [
      "Running: r=0\n"
     ]
    },
    {
     "data": {
      "text/html": [
       "\n",
       "    <div>\n",
       "        <style>\n",
       "            /* Turns off some styling */\n",
       "            progress {\n",
       "                /* gets rid of default border in Firefox and Opera. */\n",
       "                border: none;\n",
       "                /* Needs to be in here for Safari polyfill so background images work as expected. */\n",
       "                background-size: auto;\n",
       "            }\n",
       "            .progress-bar-interrupted, .progress-bar-interrupted::-webkit-progress-bar {\n",
       "                background: #F44336;\n",
       "            }\n",
       "        </style>\n",
       "      <progress value='1' class='' max='1' style='width:300px; height:20px; vertical-align: middle;'></progress>\n",
       "      100.00% [1/1 00:04<00:00]\n",
       "    </div>\n",
       "    "
      ],
      "text/plain": [
       "<IPython.core.display.HTML object>"
      ]
     },
     "metadata": {},
     "output_type": "display_data"
    },
    {
     "name": "stdout",
     "output_type": "stream",
     "text": [
      "Running: r=0.2\n"
     ]
    },
    {
     "data": {
      "text/html": [
       "\n",
       "    <div>\n",
       "        <style>\n",
       "            /* Turns off some styling */\n",
       "            progress {\n",
       "                /* gets rid of default border in Firefox and Opera. */\n",
       "                border: none;\n",
       "                /* Needs to be in here for Safari polyfill so background images work as expected. */\n",
       "                background-size: auto;\n",
       "            }\n",
       "            .progress-bar-interrupted, .progress-bar-interrupted::-webkit-progress-bar {\n",
       "                background: #F44336;\n",
       "            }\n",
       "        </style>\n",
       "      <progress value='1' class='' max='1' style='width:300px; height:20px; vertical-align: middle;'></progress>\n",
       "      100.00% [1/1 00:04<00:00]\n",
       "    </div>\n",
       "    "
      ],
      "text/plain": [
       "<IPython.core.display.HTML object>"
      ]
     },
     "metadata": {},
     "output_type": "display_data"
    },
    {
     "name": "stdout",
     "output_type": "stream",
     "text": [
      "Running: l=2.5\n"
     ]
    },
    {
     "data": {
      "text/html": [
       "\n",
       "    <div>\n",
       "        <style>\n",
       "            /* Turns off some styling */\n",
       "            progress {\n",
       "                /* gets rid of default border in Firefox and Opera. */\n",
       "                border: none;\n",
       "                /* Needs to be in here for Safari polyfill so background images work as expected. */\n",
       "                background-size: auto;\n",
       "            }\n",
       "            .progress-bar-interrupted, .progress-bar-interrupted::-webkit-progress-bar {\n",
       "                background: #F44336;\n",
       "            }\n",
       "        </style>\n",
       "      <progress value='1' class='' max='1' style='width:300px; height:20px; vertical-align: middle;'></progress>\n",
       "      100.00% [1/1 00:03<00:00]\n",
       "    </div>\n",
       "    "
      ],
      "text/plain": [
       "<IPython.core.display.HTML object>"
      ]
     },
     "metadata": {},
     "output_type": "display_data"
    },
    {
     "name": "stdout",
     "output_type": "stream",
     "text": [
      "Running: l=3\n"
     ]
    },
    {
     "data": {
      "text/html": [
       "\n",
       "    <div>\n",
       "        <style>\n",
       "            /* Turns off some styling */\n",
       "            progress {\n",
       "                /* gets rid of default border in Firefox and Opera. */\n",
       "                border: none;\n",
       "                /* Needs to be in here for Safari polyfill so background images work as expected. */\n",
       "                background-size: auto;\n",
       "            }\n",
       "            .progress-bar-interrupted, .progress-bar-interrupted::-webkit-progress-bar {\n",
       "                background: #F44336;\n",
       "            }\n",
       "        </style>\n",
       "      <progress value='1' class='' max='1' style='width:300px; height:20px; vertical-align: middle;'></progress>\n",
       "      100.00% [1/1 00:04<00:00]\n",
       "    </div>\n",
       "    "
      ],
      "text/plain": [
       "<IPython.core.display.HTML object>"
      ]
     },
     "metadata": {},
     "output_type": "display_data"
    },
    {
     "name": "stdout",
     "output_type": "stream",
     "text": [
      "Running: l=3.5\n"
     ]
    },
    {
     "data": {
      "text/html": [
       "\n",
       "    <div>\n",
       "        <style>\n",
       "            /* Turns off some styling */\n",
       "            progress {\n",
       "                /* gets rid of default border in Firefox and Opera. */\n",
       "                border: none;\n",
       "                /* Needs to be in here for Safari polyfill so background images work as expected. */\n",
       "                background-size: auto;\n",
       "            }\n",
       "            .progress-bar-interrupted, .progress-bar-interrupted::-webkit-progress-bar {\n",
       "                background: #F44336;\n",
       "            }\n",
       "        </style>\n",
       "      <progress value='1' class='' max='1' style='width:300px; height:20px; vertical-align: middle;'></progress>\n",
       "      100.00% [1/1 00:04<00:00]\n",
       "    </div>\n",
       "    "
      ],
      "text/plain": [
       "<IPython.core.display.HTML object>"
      ]
     },
     "metadata": {},
     "output_type": "display_data"
    },
    {
     "data": {
      "text/html": [
       "\n",
       "    <div>\n",
       "        <style>\n",
       "            /* Turns off some styling */\n",
       "            progress {\n",
       "                /* gets rid of default border in Firefox and Opera. */\n",
       "                border: none;\n",
       "                /* Needs to be in here for Safari polyfill so background images work as expected. */\n",
       "                background-size: auto;\n",
       "            }\n",
       "            .progress-bar-interrupted, .progress-bar-interrupted::-webkit-progress-bar {\n",
       "                background: #F44336;\n",
       "            }\n",
       "        </style>\n",
       "      <progress value='61' class='' max='61' style='width:300px; height:20px; vertical-align: middle;'></progress>\n",
       "      100.00% [61/61 00:16<00:00]\n",
       "    </div>\n",
       "    "
      ],
      "text/plain": [
       "<IPython.core.display.HTML object>"
      ]
     },
     "metadata": {},
     "output_type": "display_data"
    }
   ],
   "source": [
    "nll_bce = compute_nll(model_bce, False)"
   ]
  },
  {
   "cell_type": "markdown",
   "metadata": {
    "slideshow": {
     "slide_type": "slide"
    }
   },
   "source": [
    "# Comparison\n",
    "After computing the predictions on the test data and evaluating the profile likelihood (code skipped, but present in notebook), we can compare the sensitivity to the signal.\n",
    "\n",
    "Both DNNs predict the same signal strength, however INFERNO is much more precise due to being aware of the systematics that affect the data."
   ]
  },
  {
   "cell_type": "code",
   "execution_count": 9,
   "metadata": {
    "slideshow": {
     "slide_type": "-"
    }
   },
   "outputs": [
    {
     "data": {
      "image/png": "[encoded data removed]",
      "text/plain": [
       "<Figure size 1024x576 with 1 Axes>"
      ]
     },
     "metadata": {},
     "output_type": "display_data"
    },
    {
     "data": {
      "text/plain": [
       "[25.45555503988841, 19.18651108206283]"
      ]
     },
     "execution_count": 9,
     "metadata": {},
     "output_type": "execute_result"
    }
   ],
   "source": [
    "plot_likelihood({'BCE':nll_bce, 'INFERNO':nll_inf}, mu_scan)"
   ]
  },
  {
   "cell_type": "markdown",
   "metadata": {
    "slideshow": {
     "slide_type": "slide"
    }
   },
   "source": [
    "# Summary\n",
    "\n",
    "- PyTorch INFERNO provides a starting point for applying INFERNO to your own work\n",
    "    - is a pip installable package (`pip install pytorch_inferno`)\n",
    "- Due to the task-specific nature of the concrete implementations, the user will always have to inherit and build there own classes\n",
    "    - Not covered is an approximation of INFERNO, that could be more generalisable to work directly on systematic datasets\n",
    "- The code also demonstrates how INFERNO can be potentially \"dropped-in\" to other frameworks with callback systems\n",
    "- Other implementations:\n",
    "    - Tensorflow 1, Pablo de Casto: https://github.com/pablodecm/paper-inferno\n",
    "    - Tensorflow 2, Lukas Layer: https://github.com/llayer/inferno"
   ]
  }
 ],
 "metadata": {
  "celltoolbar": "Slideshow",
  "kernelspec": {
   "display_name": "Python 3",
   "language": "python",
   "name": "python3"
  },
  "language_info": {
   "codemirror_mode": {
    "name": "ipython",
    "version": 3
   },
   "file_extension": ".py",
   "mimetype": "text/x-python",
   "name": "python",
   "nbconvert_exporter": "python",
   "pygments_lexer": "ipython3",
   "version": "3.6.5"
  },
  "toc": {
   "base_numbering": 1,
   "nav_menu": {},
   "number_sections": false,
   "sideBar": true,
   "skip_h1_title": false,
   "title_cell": "Table of Contents",
   "title_sidebar": "Contents",
   "toc_cell": false,
   "toc_position": {},
   "toc_section_display": true,
   "toc_window_display": false
  }
 },
 "nbformat": 4,
 "nbformat_minor": 5
}
